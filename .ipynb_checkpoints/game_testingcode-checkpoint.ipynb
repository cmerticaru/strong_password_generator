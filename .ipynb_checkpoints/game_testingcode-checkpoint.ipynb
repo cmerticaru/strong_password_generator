{
 "cells": [
  {
   "cell_type": "code",
   "execution_count": 4,
   "metadata": {},
   "outputs": [],
   "source": [
    "import random\n",
    "import itertools\n",
    "from random import choice\n",
    "\n",
    "#list of all characters to be used\n",
    "#set rule for only unique characters\n",
    "#each character that is used needs to be removed from the list\n",
    "\n",
    "#3 lists\n",
    "#letters = ['a', 'b', 'c', 'd', 'e', 'f', 'g', 'h', 'i', 'j', 'k', 'l', 'm', 'n', 'o', 'p', 'q', 'r', 's', 't', 'u', 'v', 'w', 'x', 'y', 'z']\n",
    "#capital = \n",
    "#numbers = ['0','1','2','3','4','5','6','7','8','9']\n",
    "#symbols = ['~','!','@','^']\n",
    "#punctuation = ['!','#','$','%','&','*','+','-','.','/',':',';','<','=','>','?','@','^','|','~']\n",
    "#`°{}[]$[~!@^&*-_+=|\\/:;<>,.?£€¢¥§%]\n",
    "#for (a,b,c) in zip(letters, numbers, punctuation):\n",
    "    #print(a,b,c)\n",
    "#for i in range(12):\n",
    "  #  print(list(map(choice, (letters, numbers, punctuation, numbers, letters, letters, punctuation, numbers, letters, punctuation))))\n",
    "\n",
    "#password to have 12 characters n=12\n"
   ]
  },
  {
   "cell_type": "code",
   "execution_count": null,
   "metadata": {},
   "outputs": [],
   "source": [
    "#import string\n",
    "#print string.ascii_uppercase\n",
    "import random\n",
    "import itertools\n",
    "from random import choice\n",
    "\n",
    "#letters = [abcdefghijklmnopqrstuvwxyz]\n",
    "#capital = [ABCDEFGHIJKLMNOPQRSTUVWXYZ]\n",
    "#punctuation = [!\"$%&'()*+,-./:;<=>?@[\\]^_`{|}~] \n",
    "#numbers = [0123456789]\n",
    "\n",
    "#for i in range(12):\n",
    "   # print(list(map(choice, (letters, capital, punctuation, numbers))))\n"
   ]
  },
  {
   "cell_type": "code",
   "execution_count": 2,
   "metadata": {},
   "outputs": [],
   "source": [
    "#import string\n",
    "#print (string.ascii_lowercase)"
   ]
  },
  {
   "cell_type": "code",
   "execution_count": 6,
   "metadata": {},
   "outputs": [],
   "source": [
    "import string\n",
    "#print (string.printable)\n"
   ]
  },
  {
   "cell_type": "code",
   "execution_count": 7,
   "metadata": {},
   "outputs": [
    {
     "name": "stdout",
     "output_type": "stream",
     "text": [
      "['A', 'B', 'C', 'D', 'E', 'F', 'G', 'H', 'I', 'J', 'K', 'L', 'M', 'N', 'O', 'P', 'Q', 'R', 'S', 'T', 'U', 'V', 'W', 'X', 'Y', 'Z']\n",
      "['a', 'b', 'c', 'd', 'e', 'f', 'g', 'h', 'i', 'j', 'k', 'l', 'm', 'n', 'o', 'p', 'q', 'r', 's', 't', 'u', 'v', 'w', 'x', 'y', 'z']\n",
      "['0', '1', '2', '3', '4', '5', '6', '7', '8', '9']\n",
      "['!', '\"', '#', '$', '%', '&', \"'\", '(', ')', '*', '+', ',', '-', '.', '/', ':', ';', '<', '=', '>', '?', '@', '[', '\\\\', ']', '^', '_', '`', '{', '|', '}', '~']\n"
     ]
    }
   ],
   "source": [
    "alphabet_string = string.ascii_uppercase\n",
    "alphabet_capital = list(alphabet_string)\n",
    "print(alphabet_capital)\n",
    "alphabet_string = string.ascii_lowercase\n",
    "alphabet_lower = list(alphabet_string)\n",
    "print(alphabet_lower)\n",
    "numbers_string = string.digits\n",
    "numbers = list(numbers_string)\n",
    "print(numbers)\n",
    "punctuation_string = string.punctuation\n",
    "punctuation = list(punctuation_string)\n",
    "print(punctuation)"
   ]
  },
  {
   "cell_type": "code",
   "execution_count": null,
   "metadata": {},
   "outputs": [],
   "source": [
    "for i in range(1):\n",
    "    print(list(map(choice, (alphabet_capital,alphabet_lower,numbers, punctuation, alphabet_capital,alphabet_lower,numbers, punctuation,alphabet_capital,alphabet_lower,numbers, punctuation,))))\n",
    " "
   ]
  },
  {
   "cell_type": "code",
   "execution_count": 8,
   "metadata": {},
   "outputs": [
    {
     "name": "stdout",
     "output_type": "stream",
     "text": [
      "[['R', 'q', '5', '<', 'r', 'R', '7', ',', 'Y', '9', 'r', '@']]\n",
      "['Rq5<rR7,Y9r@']\n"
     ]
    }
   ],
   "source": [
    "password = []\n",
    "for i in range(1):\n",
    "    password.append(list(map(choice, (alphabet_capital,alphabet_lower,numbers, punctuation, alphabet_lower,alphabet_capital,numbers, punctuation,alphabet_capital,numbers,alphabet_lower, punctuation))))\n",
    "print(password)\n",
    "#generated = ''.join(password)\n",
    "#print(generated)\n",
    "generated = []\n",
    "for s in password:\n",
    "    generated.append(s[0]+s[1]+s[2]+s[3]+s[4]+s[5]+s[6]+s[7]+s[8]+s[9]+s[10]+s[11])\n",
    "print(generated)"
   ]
  },
  {
   "cell_type": "code",
   "execution_count": null,
   "metadata": {},
   "outputs": [],
   "source": [
    "#check password strength\n",
    "import re\n",
    "# Check if contains at least one digit\n",
    "if re.search(r'\\d', password):\n",
    "    print (\"Has a digit\")\n",
    "# Check if contains at least one uppercase letter\n",
    "if re.search(r'[A-Z]', password):\n",
    "    print (\"Has uppercase letter\")\n",
    "# Check if contains at least one lowercase letter\n",
    "if re.search(r'[a-z]', password):\n",
    "    print (\"Has lowercase letter\")"
   ]
  },
  {
   "cell_type": "code",
   "execution_count": 9,
   "metadata": {},
   "outputs": [
    {
     "name": "stdout",
     "output_type": "stream",
     "text": [
      "['A', 'B', 'C', 'D', 'E', 'F', 'G', 'H', 'I', 'J', 'K', 'L', 'M', 'N', 'O', 'P', 'Q', 'R', 'S', 'T', 'U', 'V', 'W', 'X', 'Y', 'Z']\n",
      "['a', 'b', 'c', 'd', 'e', 'f', 'g', 'h', 'i', 'j', 'k', 'l', 'm', 'n', 'o', 'p', 'q', 'r', 's', 't', 'u', 'v', 'w', 'x', 'y', 'z']\n",
      "['0', '1', '2', '3', '4', '5', '6', '7', '8', '9']\n",
      "['!', '\"', '#', '$', '%', '&', \"'\", '(', ')', '*', '+', ',', '-', '.', '/', ':', ';', '<', '=', '>', '?', '@', '[', '\\\\', ']', '^', '_', '`', '{', '|', '}', '~']\n",
      "[['N', 'e', '6', '@', 'f', 'L', '8', '\\\\', 'X', '6', 't', '`']]\n",
      "['Ne6@fL8\\\\X6t`']\n"
     ]
    }
   ],
   "source": [
    "alphabet_string = string.ascii_uppercase\n",
    "alphabet_capital = list(alphabet_string)\n",
    "print(alphabet_capital)\n",
    "alphabet_string = string.ascii_lowercase\n",
    "alphabet_lower = list(alphabet_string)\n",
    "print(alphabet_lower)\n",
    "numbers_string = string.digits\n",
    "numbers = list(numbers_string)\n",
    "print(numbers)\n",
    "punctuation_string = string.punctuation\n",
    "punctuation = list(punctuation_string)\n",
    "print(punctuation)\n",
    "password = []\n",
    "for i in range(1):\n",
    "    password.append(list(map(choice, (alphabet_capital,alphabet_lower,numbers, punctuation, alphabet_lower,alphabet_capital,numbers, punctuation,alphabet_capital,numbers,alphabet_lower, punctuation))))\n",
    "print(password)\n",
    "#generated = ''.join(password)\n",
    "#print(generated)\n",
    "generated = []\n",
    "for s in password:\n",
    "    generated.append(s[0]+s[1]+s[2]+s[3]+s[4]+s[5]+s[6]+s[7]+s[8]+s[9]+s[10]+s[11])\n",
    "print(generated)\n"
   ]
  },
  {
   "cell_type": "code",
   "execution_count": null,
   "metadata": {},
   "outputs": [],
   "source": []
  }
 ],
 "metadata": {
  "kernelspec": {
   "display_name": "Python 3",
   "language": "python",
   "name": "python3"
  },
  "language_info": {
   "codemirror_mode": {
    "name": "ipython",
    "version": 3
   },
   "file_extension": ".py",
   "mimetype": "text/x-python",
   "name": "python",
   "nbconvert_exporter": "python",
   "pygments_lexer": "ipython3",
   "version": "3.7.4"
  }
 },
 "nbformat": 4,
 "nbformat_minor": 2
}
