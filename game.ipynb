{
 "cells": [
  {
   "cell_type": "code",
   "execution_count": 35,
   "metadata": {},
   "outputs": [
    {
     "name": "stdout",
     "output_type": "stream",
     "text": [
      "This is your strong password ['Mk7;vK0|I5w}']\n",
      "['Mk7;vK0|I5w}']\n"
     ]
    }
   ],
   "source": [
    "import random\n",
    "from random import choice\n",
    "import string\n",
    "import re\n",
    "\n",
    "alphabet_string = string.ascii_uppercase\n",
    "alphabet_capital = list(alphabet_string)\n",
    "alphabet_string = string.ascii_lowercase\n",
    "alphabet_lower = list(alphabet_string)\n",
    "numbers_string = string.digits\n",
    "numbers = list(numbers_string)\n",
    "punctuation_string = string.punctuation\n",
    "punctuation = list(punctuation_string)\n",
    "#print(punctuation)\n",
    "\n",
    "password1 = []\n",
    "for i in range(1):\n",
    "    password1.append(list(map(choice, (alphabet_capital,alphabet_lower,numbers, punctuation, alphabet_lower,alphabet_capital,numbers, punctuation,alphabet_capital,numbers,alphabet_lower, punctuation))))\n",
    "#print(password)\n",
    "\n",
    "generated = []\n",
    "for s in password1:\n",
    "    generated.append(s[0]+s[1]+s[2]+s[3]+s[4]+s[5]+s[6]+s[7]+s[8]+s[9]+s[10]+s[11])\n",
    "print(\"This is your strong password\", generated)\n",
    "password = generated\n",
    "print(password)"
   ]
  },
  {
   "cell_type": "code",
   "execution_count": 37,
   "metadata": {},
   "outputs": [
    {
     "name": "stdout",
     "output_type": "stream",
     "text": [
      "Mk7;vK0|I5w} is a Strong Password because it has at least 1 lowercase, 1 uppercase, 1 number and 1 symbol, and it has at least 12 characters\n"
     ]
    }
   ],
   "source": [
    "import re \n",
    "password = \"Mk7;vK0|I5w}\"\n",
    "flag = 0\n",
    "while True:   \n",
    "    if (len(password)<12): #this checks that the password has at least 12 characters\n",
    "        flag = -1\n",
    "        break\n",
    "    elif not re.search(\"[a-z]\", password): #this checks that there is at least 1 lowercase character\n",
    "        flag = -1\n",
    "        break\n",
    "    elif not re.search(\"[A-Z]\", password): #this checks that there is at least 1 uppercase character\n",
    "        flag = -1\n",
    "        break\n",
    "    elif not re.search(\"[0-9]\", password): #this checks that there is at least 1 number\n",
    "        flag = -1\n",
    "        break\n",
    "    elif not re.search(\"[!*+, -./:;<=>?@\\^_`|~]\", password): #this checks that there is at least 1 special character\n",
    "        flag = -1\n",
    "        break\n",
    "    elif re.search(\"\\s\", password): #this will find if any single spaces exist in the password\n",
    "        flag = -1\n",
    "        break\n",
    "    else: \n",
    "        flag = 0\n",
    "        print(password, \"is a Strong Password because it has at least 1 lowercase, 1 uppercase, 1 number and 1 symbol, and it has at least 12 characters\") \n",
    "        break\n",
    "  \n",
    "if flag ==-1: \n",
    "    print(\"Not a Strong Password\") \n",
    "    \n",
    "#password validator taken from https://www.geeksforgeeks.org/python-program-check-validity-password/"
   ]
  },
  {
   "cell_type": "code",
   "execution_count": null,
   "metadata": {},
   "outputs": [],
   "source": []
  }
 ],
 "metadata": {
  "kernelspec": {
   "display_name": "Python 3",
   "language": "python",
   "name": "python3"
  },
  "language_info": {
   "codemirror_mode": {
    "name": "ipython",
    "version": 3
   },
   "file_extension": ".py",
   "mimetype": "text/x-python",
   "name": "python",
   "nbconvert_exporter": "python",
   "pygments_lexer": "ipython3",
   "version": "3.7.4"
  }
 },
 "nbformat": 4,
 "nbformat_minor": 2
}
