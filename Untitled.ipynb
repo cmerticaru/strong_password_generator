{
 "cells": [
  {
   "cell_type": "code",
   "execution_count": null,
   "metadata": {},
   "outputs": [],
   "source": [
    "import random\n",
    "import itertools\n",
    "from random import choice\n",
    "import string\n",
    "\n",
    "alphabet_string = string.ascii_uppercase\n",
    "alphabet_capital = list(alphabet_string)\n",
    "print(alphabet_capital)\n",
    "alphabet_string = string.ascii_lowercase\n",
    "alphabet_lower = list(alphabet_string)\n",
    "print(alphabet_lower)\n",
    "numbers_string = string.digits\n",
    "numbers = list(numbers_string)\n",
    "print(numbers)\n",
    "punctuation_string = string.punctuation\n",
    "punctuation = list(punctuation_string)\n",
    "print(punctuation)\n",
    "password = []\n",
    "for i in range(1):\n",
    "    password.append(list(map(choice, (alphabet_capital,alphabet_lower,numbers, punctuation, alphabet_lower,alphabet_capital,numbers, punctuation,alphabet_capital,numbers,alphabet_lower, punctuation))))\n",
    "print(password)\n",
    "#generated = ''.join(password)\n",
    "#print(generated)\n",
    "generated = []\n",
    "for s in password:\n",
    "    generated.append(s[0]+s[1]+s[2]+s[3]+s[4]+s[5]+s[6]+s[7]+s[8]+s[9]+s[10]+s[11])\n",
    "print(generated)\n"
   ]
  },
  {
   "cell_type": "code",
   "execution_count": null,
   "metadata": {},
   "outputs": [],
   "source": [
    "import re\n",
    "password = input(password)\n",
    "if(len(password)>=8):\n",
    "    if(bool(re.match('((?=.*\\d)(?=.*[a-z])(?=.*[A-Z])(?=.*[!@#$%^&*]).{8,30})',password))==True):\n",
    "        print(\"The password is strong\")\n",
    "    elif(bool(re.match('((\\d*)([a-z]*)([A-Z]*)([!@#$%^&*]*).{8,30})',password))==True):\n",
    "        print(\"The password is weak\")\n",
    "else:\n",
    "    print(\"You have entered an invalid password.\")"
   ]
  },
  {
   "cell_type": "code",
   "execution_count": null,
   "metadata": {},
   "outputs": [],
   "source": []
  }
 ],
 "metadata": {
  "kernelspec": {
   "display_name": "Python 3",
   "language": "python",
   "name": "python3"
  },
  "language_info": {
   "codemirror_mode": {
    "name": "ipython",
    "version": 3
   },
   "file_extension": ".py",
   "mimetype": "text/x-python",
   "name": "python",
   "nbconvert_exporter": "python",
   "pygments_lexer": "ipython3",
   "version": "3.7.4"
  }
 },
 "nbformat": 4,
 "nbformat_minor": 2
}
